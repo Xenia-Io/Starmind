{
 "cells": [
  {
   "cell_type": "code",
   "execution_count": 1,
   "id": "56aad716",
   "metadata": {},
   "outputs": [],
   "source": [
    "import pandas as pd\n",
    "import numpy as np"
   ]
  },
  {
   "cell_type": "markdown",
   "id": "c32d725a",
   "metadata": {},
   "source": [
    "## Load Dataset"
   ]
  },
  {
   "cell_type": "code",
   "execution_count": 2,
   "id": "7dcea713",
   "metadata": {},
   "outputs": [
    {
     "name": "stdout",
     "output_type": "stream",
     "text": [
      "                         HUNDENAME  GEBURTSJAHR_HUND GESCHLECHT_HUND\n",
      "0                            Ituma              2011               w\n",
      "1         \"Bo\" Bendy of Treegarden              2020               m\n",
      "2            \"Bobby\" Lord Sinclair              2009               m\n",
      "3       \"Buddy\" Fortheringhay's J.              2011               m\n",
      "4     \"Fly\" Showring i fly for you              2015               w\n",
      "...                            ...               ...             ...\n",
      "8569                     unbekannt              2010               w\n",
      "8570                     unbekannt              2011               m\n",
      "8571                     unbekannt              2018               m\n",
      "8572                     unbekannt              2018               m\n",
      "8573                     unbekannt              2017               m\n",
      "\n",
      "[8574 rows x 3 columns]\n"
     ]
    }
   ],
   "source": [
    "data = pd.read_csv(\"20210103_hundenamen.csv\")\n",
    "print(data)"
   ]
  },
  {
   "cell_type": "markdown",
   "id": "ae3d0d01",
   "metadata": {},
   "source": [
    "## Check the data values"
   ]
  },
  {
   "cell_type": "code",
   "execution_count": 3,
   "id": "4b6f1ad8",
   "metadata": {},
   "outputs": [
    {
     "name": "stdout",
     "output_type": "stream",
     "text": [
      "150                           Alfie\n",
      "151                          Alfred\n",
      "152                         Alfredo\n",
      "153    Algarvio (Casa Rastys Amigo)\n",
      "154                             Ali\n",
      "155                      Ali (Ally)\n",
      "156                           Aliah\n",
      "157                           Alice\n",
      "Name: HUNDENAME, dtype: object\n"
     ]
    }
   ],
   "source": [
    "print(data['HUNDENAME'].loc[150:157])"
   ]
  },
  {
   "cell_type": "code",
   "execution_count": 4,
   "id": "7c0b9d7a",
   "metadata": {},
   "outputs": [
    {
     "name": "stdout",
     "output_type": "stream",
     "text": [
      "Check for Nan values:\n",
      " HUNDENAME           0\n",
      "GEBURTSJAHR_HUND    0\n",
      "GESCHLECHT_HUND     0\n",
      "dtype: int64\n"
     ]
    }
   ],
   "source": [
    "print(\"Check for Nan values:\\n\", data.isna().sum())"
   ]
  },
  {
   "cell_type": "code",
   "execution_count": 5,
   "id": "0c5a9485",
   "metadata": {},
   "outputs": [
    {
     "name": "stdout",
     "output_type": "stream",
     "text": [
      "The word 'unbekannt' appears 5 times in the dataset.\n"
     ]
    }
   ],
   "source": [
    "print(\"The word 'unbekannt' appears {} times in the dataset.\".format( len(data[data['HUNDENAME'] == 'unbekannt']) ) )"
   ]
  },
  {
   "cell_type": "markdown",
   "id": "78ed920b",
   "metadata": {},
   "source": [
    "## Prepare the dogs list"
   ]
  },
  {
   "cell_type": "code",
   "execution_count": 12,
   "id": "5e17a2a5",
   "metadata": {},
   "outputs": [
    {
     "name": "stdout",
     "output_type": "stream",
     "text": [
      "Total dog names: 8574\n"
     ]
    }
   ],
   "source": [
    "dogs = data['HUNDENAME'].values\n",
    "print(\"Total dog names:\", len(dogs))"
   ]
  },
  {
   "cell_type": "markdown",
   "id": "21354ded",
   "metadata": {},
   "source": [
    "## Calculate the Levenshtein distance\n",
    "\n",
    "The Levenshtein distance is a metric that indicates how disimilar are two text sequences. In particular, it measures the minimum actions that we need to take in order to make one \"word_a\" to be similar with another \"word_b\". The actions can be a deletion, and/or a insertion, and/or a substitution. The cost of deletion and insertion is equal to 1, whereas the cost for substitution in Levenshtein distance is 2. \n",
    "\n",
    "The advantage of this metric is that we can compare words with unequal lengths. "
   ]
  },
  {
   "cell_type": "code",
   "execution_count": 7,
   "id": "3fd234b2",
   "metadata": {},
   "outputs": [],
   "source": [
    "def levenshtein(word_1, word_2):\n",
    "    \n",
    "    # Initialize matrix of zeros\n",
    "    rows = len(word_1)+1\n",
    "    cols = len(word_2)+1\n",
    "    distance = [[0 for col in range(cols)] for row in range(rows)]\n",
    "\n",
    "    # Assign the indeces of each character of both strings in the matrix\n",
    "    for i in range(1, rows):\n",
    "        for j in range(1,cols):\n",
    "            distance[i][0] = i\n",
    "            distance[0][j] = j\n",
    "\n",
    "    # Compute the cost of deletions,insertions and substitutions    \n",
    "    for col in range(1, cols):\n",
    "        for row in range(1, rows):\n",
    "            if word_1[row-1] == word_2[col-1]:\n",
    "                cost = 0 \n",
    "            else:\n",
    "                cost = 2\n",
    "            \n",
    "            distance[row][col] = min(distance[row-1][col] + 1,      # Cost of deletions\n",
    "                                 distance[row][col-1] + 1,          # Cost of insertions\n",
    "                                 distance[row-1][col-1] + cost)     # Cost of substitutions\n",
    "    \n",
    "    return distance[row][col]\n"
   ]
  },
  {
   "cell_type": "markdown",
   "id": "dc165f14",
   "metadata": {},
   "source": [
    "## Test algorithm for the given word \"Luca\""
   ]
  },
  {
   "cell_type": "code",
   "execution_count": 13,
   "id": "d832572d",
   "metadata": {},
   "outputs": [
    {
     "name": "stdout",
     "output_type": "stream",
     "text": [
      "Distance is 1 for word: Lua\n",
      "Distance is 1 for word: Lua\n",
      "Distance is 1 for word: Lua\n",
      "Distance is 1 for word: Lua\n",
      "Distance is 1 for word: Lua\n",
      "Distance is 1 for word: Lua\n",
      "Distance is 1 for word: Lucas\n",
      "Distance is 1 for word: Lucia\n"
     ]
    }
   ],
   "source": [
    "for dog in dogs:\n",
    "    dist = levenshtein(dog, \"Luca\")\n",
    "    if dist == 1:\n",
    "        print(\"Distance is\", dist, \"for word:\", dog)\n",
    "   "
   ]
  },
  {
   "cell_type": "markdown",
   "id": "24b0dfaf",
   "metadata": {},
   "source": [
    "## Re-run algorithm after removing duplicates"
   ]
  },
  {
   "cell_type": "code",
   "execution_count": 14,
   "id": "8492614c",
   "metadata": {},
   "outputs": [
    {
     "name": "stdout",
     "output_type": "stream",
     "text": [
      "Total dog names after duplicates deletion: 5192\n"
     ]
    }
   ],
   "source": [
    "dogs = list(set(dogs))\n",
    "print(\"Total dog names after duplicates deletion:\", len(dogs))"
   ]
  },
  {
   "cell_type": "code",
   "execution_count": 16,
   "id": "a56c39be",
   "metadata": {},
   "outputs": [
    {
     "name": "stdout",
     "output_type": "stream",
     "text": [
      "Distance is 1 for word: Lucas\n",
      "Distance is 1 for word: Lucia\n",
      "Distance is 1 for word: Lua\n"
     ]
    }
   ],
   "source": [
    "for dog in dogs:\n",
    "    dist = levenshtein(dog, \"Luca\")\n",
    "    if dist == 1:\n",
    "        print(\"Distance is\", dist, \"for word:\", dog)"
   ]
  },
  {
   "cell_type": "code",
   "execution_count": null,
   "id": "1b8e7f83",
   "metadata": {},
   "outputs": [],
   "source": []
  }
 ],
 "metadata": {
  "kernelspec": {
   "display_name": "Python 3",
   "language": "python",
   "name": "python3"
  },
  "language_info": {
   "codemirror_mode": {
    "name": "ipython",
    "version": 3
   },
   "file_extension": ".py",
   "mimetype": "text/x-python",
   "name": "python",
   "nbconvert_exporter": "python",
   "pygments_lexer": "ipython3",
   "version": "3.8.6"
  }
 },
 "nbformat": 4,
 "nbformat_minor": 5
}
